{
 "cells": [
  {
   "cell_type": "markdown",
   "metadata": {},
   "source": [
    "## Biostatistics Group Project\n",
    "Data analysis"
   ]
  },
  {
   "cell_type": "code",
   "execution_count": 24,
   "metadata": {},
   "outputs": [
    {
     "name": "stdout",
     "output_type": "stream",
     "text": [
      "Imports Successful\n"
     ]
    }
   ],
   "source": [
    "import pandas as pd\n",
    "import numpy as np\n",
    "import matplotlib.pyplot as plt\n",
    "import scipy\n",
    "from scipy import stats\n",
    "from scipy.stats import chi2_contingency\n",
    "from scipy.stats import chi2\n",
    "from statsmodels.graphics.mosaicplot import mosaic\n",
    "import seaborn as sb\n",
    "from sklearn.linear_model import LinearRegression\n",
    "from sklearn import datasets, linear_model\n",
    "import statsmodels.api as sm\n",
    "\n",
    "print(\"Imports Successful\")"
   ]
  },
  {
   "cell_type": "code",
   "execution_count": 25,
   "metadata": {},
   "outputs": [
    {
     "data": {
      "text/html": [
       "<div>\n",
       "<style scoped>\n",
       "    .dataframe tbody tr th:only-of-type {\n",
       "        vertical-align: middle;\n",
       "    }\n",
       "\n",
       "    .dataframe tbody tr th {\n",
       "        vertical-align: top;\n",
       "    }\n",
       "\n",
       "    .dataframe thead th {\n",
       "        text-align: right;\n",
       "    }\n",
       "</style>\n",
       "<table border=\"1\" class=\"dataframe\">\n",
       "  <thead>\n",
       "    <tr style=\"text-align: right;\">\n",
       "      <th></th>\n",
       "      <th>Patient ID</th>\n",
       "      <th>Drug</th>\n",
       "      <th>Stomach Pain</th>\n",
       "      <th>Sex</th>\n",
       "      <th>Age</th>\n",
       "      <th>Height</th>\n",
       "      <th>Systolic BP</th>\n",
       "      <th>Diastolic BP</th>\n",
       "      <th>Exercise</th>\n",
       "      <th>Coffee Consumption</th>\n",
       "      <th>...</th>\n",
       "      <th>Triglycerides</th>\n",
       "      <th>Triglycerides3</th>\n",
       "      <th>HDL</th>\n",
       "      <th>HDL3</th>\n",
       "      <th>LDL</th>\n",
       "      <th>LDL3</th>\n",
       "      <th>Tri3-Tri</th>\n",
       "      <th>HDL3-HDL</th>\n",
       "      <th>CHOL3-CHOL</th>\n",
       "      <th>W3-W</th>\n",
       "    </tr>\n",
       "  </thead>\n",
       "  <tbody>\n",
       "    <tr>\n",
       "      <th>0</th>\n",
       "      <td>17</td>\n",
       "      <td>A</td>\n",
       "      <td>Yes</td>\n",
       "      <td>F</td>\n",
       "      <td>22</td>\n",
       "      <td>71.5</td>\n",
       "      <td>118</td>\n",
       "      <td>70</td>\n",
       "      <td>60</td>\n",
       "      <td>0</td>\n",
       "      <td>...</td>\n",
       "      <td>81</td>\n",
       "      <td>91</td>\n",
       "      <td>42</td>\n",
       "      <td>40</td>\n",
       "      <td>126.7</td>\n",
       "      <td>116.5</td>\n",
       "      <td>10</td>\n",
       "      <td>-2</td>\n",
       "      <td>-12</td>\n",
       "      <td>-1</td>\n",
       "    </tr>\n",
       "    <tr>\n",
       "      <th>1</th>\n",
       "      <td>30</td>\n",
       "      <td>A</td>\n",
       "      <td>Yes</td>\n",
       "      <td>F</td>\n",
       "      <td>23</td>\n",
       "      <td>74.0</td>\n",
       "      <td>124</td>\n",
       "      <td>76</td>\n",
       "      <td>60</td>\n",
       "      <td>0</td>\n",
       "      <td>...</td>\n",
       "      <td>94</td>\n",
       "      <td>92</td>\n",
       "      <td>43</td>\n",
       "      <td>44</td>\n",
       "      <td>119.5</td>\n",
       "      <td>118.5</td>\n",
       "      <td>-2</td>\n",
       "      <td>1</td>\n",
       "      <td>0</td>\n",
       "      <td>1</td>\n",
       "    </tr>\n",
       "    <tr>\n",
       "      <th>2</th>\n",
       "      <td>9</td>\n",
       "      <td>A</td>\n",
       "      <td>Yes</td>\n",
       "      <td>F</td>\n",
       "      <td>23</td>\n",
       "      <td>73.5</td>\n",
       "      <td>124</td>\n",
       "      <td>82</td>\n",
       "      <td>60</td>\n",
       "      <td>1</td>\n",
       "      <td>...</td>\n",
       "      <td>307</td>\n",
       "      <td>88</td>\n",
       "      <td>28</td>\n",
       "      <td>28</td>\n",
       "      <td>201.1</td>\n",
       "      <td>145.6</td>\n",
       "      <td>-219</td>\n",
       "      <td>0</td>\n",
       "      <td>-59</td>\n",
       "      <td>-12</td>\n",
       "    </tr>\n",
       "    <tr>\n",
       "      <th>3</th>\n",
       "      <td>21</td>\n",
       "      <td>A</td>\n",
       "      <td>No</td>\n",
       "      <td>F</td>\n",
       "      <td>28</td>\n",
       "      <td>71.0</td>\n",
       "      <td>110</td>\n",
       "      <td>80</td>\n",
       "      <td>60</td>\n",
       "      <td>2</td>\n",
       "      <td>...</td>\n",
       "      <td>107</td>\n",
       "      <td>145</td>\n",
       "      <td>53</td>\n",
       "      <td>47</td>\n",
       "      <td>152.3</td>\n",
       "      <td>181.7</td>\n",
       "      <td>38</td>\n",
       "      <td>-6</td>\n",
       "      <td>24</td>\n",
       "      <td>0</td>\n",
       "    </tr>\n",
       "    <tr>\n",
       "      <th>4</th>\n",
       "      <td>32</td>\n",
       "      <td>A</td>\n",
       "      <td>Yes</td>\n",
       "      <td>F</td>\n",
       "      <td>23</td>\n",
       "      <td>71.5</td>\n",
       "      <td>124</td>\n",
       "      <td>70</td>\n",
       "      <td>180</td>\n",
       "      <td>3</td>\n",
       "      <td>...</td>\n",
       "      <td>63</td>\n",
       "      <td>60</td>\n",
       "      <td>52</td>\n",
       "      <td>44</td>\n",
       "      <td>158.0</td>\n",
       "      <td>138.0</td>\n",
       "      <td>-3</td>\n",
       "      <td>-8</td>\n",
       "      <td>-28</td>\n",
       "      <td>2</td>\n",
       "    </tr>\n",
       "  </tbody>\n",
       "</table>\n",
       "<p>5 rows × 25 columns</p>\n",
       "</div>"
      ],
      "text/plain": [
       "   Patient ID Drug Stomach Pain Sex  Age  Height  Systolic BP  Diastolic BP  \\\n",
       "0          17    A          Yes   F   22    71.5          118            70   \n",
       "1          30    A          Yes   F   23    74.0          124            76   \n",
       "2           9    A          Yes   F   23    73.5          124            82   \n",
       "3          21    A           No   F   28    71.0          110            80   \n",
       "4          32    A          Yes   F   23    71.5          124            70   \n",
       "\n",
       "   Exercise  Coffee Consumption  ... Triglycerides  Triglycerides3  HDL  HDL3  \\\n",
       "0        60                   0  ...            81              91   42    40   \n",
       "1        60                   0  ...            94              92   43    44   \n",
       "2        60                   1  ...           307              88   28    28   \n",
       "3        60                   2  ...           107             145   53    47   \n",
       "4       180                   3  ...            63              60   52    44   \n",
       "\n",
       "     LDL   LDL3  Tri3-Tri  HDL3-HDL  CHOL3-CHOL  W3-W  \n",
       "0  126.7  116.5        10        -2         -12    -1  \n",
       "1  119.5  118.5        -2         1           0     1  \n",
       "2  201.1  145.6      -219         0         -59   -12  \n",
       "3  152.3  181.7        38        -6          24     0  \n",
       "4  158.0  138.0        -3        -8         -28     2  \n",
       "\n",
       "[5 rows x 25 columns]"
      ]
     },
     "execution_count": 25,
     "metadata": {},
     "output_type": "execute_result"
    }
   ],
   "source": [
    "df = pd.read_excel(r'/Users/mehrnazsiavoshi/Documents/Liberty/UCSD Extension/Biostatistics/lipid2.xls', sheet_name='lipid2')\n",
    "df.head()"
   ]
  },
  {
   "cell_type": "markdown",
   "metadata": {},
   "source": [
    "## General Analysis"
   ]
  },
  {
   "cell_type": "code",
   "execution_count": 26,
   "metadata": {},
   "outputs": [
    {
     "name": "stdout",
     "output_type": "stream",
     "text": [
      "<class 'pandas.core.frame.DataFrame'>\n",
      "RangeIndex: 45 entries, 0 to 44\n",
      "Data columns (total 25 columns):\n",
      " #   Column               Non-Null Count  Dtype  \n",
      "---  ------               --------------  -----  \n",
      " 0   Patient ID           45 non-null     int64  \n",
      " 1   Drug                 45 non-null     object \n",
      " 2   Stomach Pain         45 non-null     object \n",
      " 3   Sex                  45 non-null     object \n",
      " 4   Age                  45 non-null     int64  \n",
      " 5   Height               45 non-null     float64\n",
      " 6   Systolic BP          45 non-null     int64  \n",
      " 7   Diastolic BP         45 non-null     int64  \n",
      " 8   Exercise             45 non-null     int64  \n",
      " 9   Coffee Consumption   45 non-null     int64  \n",
      " 10  Alcohol Consumption  45 non-null     object \n",
      " 11  Weight               45 non-null     int64  \n",
      " 12  Weight3              45 non-null     int64  \n",
      " 13  Cholesterol          45 non-null     int64  \n",
      " 14  Cholesterol3         45 non-null     int64  \n",
      " 15  Triglycerides        45 non-null     int64  \n",
      " 16  Triglycerides3       45 non-null     int64  \n",
      " 17  HDL                  45 non-null     int64  \n",
      " 18  HDL3                 45 non-null     int64  \n",
      " 19  LDL                  45 non-null     float64\n",
      " 20  LDL3                 45 non-null     float64\n",
      " 21  Tri3-Tri             45 non-null     int64  \n",
      " 22  HDL3-HDL             45 non-null     int64  \n",
      " 23  CHOL3-CHOL           45 non-null     int64  \n",
      " 24  W3-W                 45 non-null     int64  \n",
      "dtypes: float64(3), int64(18), object(4)\n",
      "memory usage: 8.9+ KB\n"
     ]
    }
   ],
   "source": [
    "df.info()"
   ]
  },
  {
   "cell_type": "code",
   "execution_count": 27,
   "metadata": {
    "scrolled": true
   },
   "outputs": [
    {
     "data": {
      "text/html": [
       "<div>\n",
       "<style scoped>\n",
       "    .dataframe tbody tr th:only-of-type {\n",
       "        vertical-align: middle;\n",
       "    }\n",
       "\n",
       "    .dataframe tbody tr th {\n",
       "        vertical-align: top;\n",
       "    }\n",
       "\n",
       "    .dataframe thead th {\n",
       "        text-align: right;\n",
       "    }\n",
       "</style>\n",
       "<table border=\"1\" class=\"dataframe\">\n",
       "  <thead>\n",
       "    <tr style=\"text-align: right;\">\n",
       "      <th></th>\n",
       "      <th>Patient ID</th>\n",
       "      <th>Age</th>\n",
       "      <th>Height</th>\n",
       "      <th>Systolic BP</th>\n",
       "      <th>Diastolic BP</th>\n",
       "      <th>Exercise</th>\n",
       "      <th>Coffee Consumption</th>\n",
       "      <th>Weight</th>\n",
       "      <th>Weight3</th>\n",
       "      <th>Cholesterol</th>\n",
       "      <th>...</th>\n",
       "      <th>Triglycerides</th>\n",
       "      <th>Triglycerides3</th>\n",
       "      <th>HDL</th>\n",
       "      <th>HDL3</th>\n",
       "      <th>LDL</th>\n",
       "      <th>LDL3</th>\n",
       "      <th>Tri3-Tri</th>\n",
       "      <th>HDL3-HDL</th>\n",
       "      <th>CHOL3-CHOL</th>\n",
       "      <th>W3-W</th>\n",
       "    </tr>\n",
       "  </thead>\n",
       "  <tbody>\n",
       "    <tr>\n",
       "      <th>count</th>\n",
       "      <td>45.000000</td>\n",
       "      <td>45.000000</td>\n",
       "      <td>45.000000</td>\n",
       "      <td>45.000000</td>\n",
       "      <td>45.000000</td>\n",
       "      <td>45.00000</td>\n",
       "      <td>45.000000</td>\n",
       "      <td>45.000000</td>\n",
       "      <td>45.000000</td>\n",
       "      <td>45.000000</td>\n",
       "      <td>...</td>\n",
       "      <td>45.000000</td>\n",
       "      <td>45.000000</td>\n",
       "      <td>45.000000</td>\n",
       "      <td>45.000000</td>\n",
       "      <td>45.000000</td>\n",
       "      <td>45.000000</td>\n",
       "      <td>45.000000</td>\n",
       "      <td>45.000000</td>\n",
       "      <td>45.000000</td>\n",
       "      <td>45.000000</td>\n",
       "    </tr>\n",
       "    <tr>\n",
       "      <th>mean</th>\n",
       "      <td>23.000000</td>\n",
       "      <td>24.088889</td>\n",
       "      <td>69.775111</td>\n",
       "      <td>122.933333</td>\n",
       "      <td>76.866667</td>\n",
       "      <td>90.00000</td>\n",
       "      <td>1.400000</td>\n",
       "      <td>165.377778</td>\n",
       "      <td>166.755556</td>\n",
       "      <td>190.155556</td>\n",
       "      <td>...</td>\n",
       "      <td>111.688889</td>\n",
       "      <td>108.355556</td>\n",
       "      <td>44.111111</td>\n",
       "      <td>39.066667</td>\n",
       "      <td>144.195556</td>\n",
       "      <td>139.797778</td>\n",
       "      <td>-3.333333</td>\n",
       "      <td>-5.044444</td>\n",
       "      <td>-9.533333</td>\n",
       "      <td>1.377778</td>\n",
       "    </tr>\n",
       "    <tr>\n",
       "      <th>std</th>\n",
       "      <td>13.133926</td>\n",
       "      <td>3.253126</td>\n",
       "      <td>3.902646</td>\n",
       "      <td>7.924071</td>\n",
       "      <td>6.047539</td>\n",
       "      <td>85.33357</td>\n",
       "      <td>1.750325</td>\n",
       "      <td>27.926274</td>\n",
       "      <td>27.796464</td>\n",
       "      <td>38.290134</td>\n",
       "      <td>...</td>\n",
       "      <td>80.520980</td>\n",
       "      <td>57.067008</td>\n",
       "      <td>11.281969</td>\n",
       "      <td>10.263351</td>\n",
       "      <td>34.649091</td>\n",
       "      <td>37.559495</td>\n",
       "      <td>56.860275</td>\n",
       "      <td>10.269008</td>\n",
       "      <td>27.942799</td>\n",
       "      <td>8.249763</td>\n",
       "    </tr>\n",
       "    <tr>\n",
       "      <th>min</th>\n",
       "      <td>1.000000</td>\n",
       "      <td>20.000000</td>\n",
       "      <td>59.000000</td>\n",
       "      <td>100.000000</td>\n",
       "      <td>68.000000</td>\n",
       "      <td>0.00000</td>\n",
       "      <td>0.000000</td>\n",
       "      <td>115.000000</td>\n",
       "      <td>105.000000</td>\n",
       "      <td>115.000000</td>\n",
       "      <td>...</td>\n",
       "      <td>44.000000</td>\n",
       "      <td>53.000000</td>\n",
       "      <td>25.000000</td>\n",
       "      <td>21.000000</td>\n",
       "      <td>72.100000</td>\n",
       "      <td>64.800000</td>\n",
       "      <td>-219.000000</td>\n",
       "      <td>-43.000000</td>\n",
       "      <td>-62.000000</td>\n",
       "      <td>-17.000000</td>\n",
       "    </tr>\n",
       "    <tr>\n",
       "      <th>25%</th>\n",
       "      <td>12.000000</td>\n",
       "      <td>22.000000</td>\n",
       "      <td>67.500000</td>\n",
       "      <td>120.000000</td>\n",
       "      <td>72.000000</td>\n",
       "      <td>0.00000</td>\n",
       "      <td>0.000000</td>\n",
       "      <td>149.000000</td>\n",
       "      <td>150.000000</td>\n",
       "      <td>164.000000</td>\n",
       "      <td>...</td>\n",
       "      <td>71.000000</td>\n",
       "      <td>73.000000</td>\n",
       "      <td>37.000000</td>\n",
       "      <td>31.000000</td>\n",
       "      <td>119.500000</td>\n",
       "      <td>115.800000</td>\n",
       "      <td>-18.000000</td>\n",
       "      <td>-9.000000</td>\n",
       "      <td>-30.000000</td>\n",
       "      <td>-3.000000</td>\n",
       "    </tr>\n",
       "    <tr>\n",
       "      <th>50%</th>\n",
       "      <td>23.000000</td>\n",
       "      <td>23.000000</td>\n",
       "      <td>71.000000</td>\n",
       "      <td>124.000000</td>\n",
       "      <td>76.000000</td>\n",
       "      <td>90.00000</td>\n",
       "      <td>1.000000</td>\n",
       "      <td>160.000000</td>\n",
       "      <td>165.000000</td>\n",
       "      <td>194.000000</td>\n",
       "      <td>...</td>\n",
       "      <td>93.000000</td>\n",
       "      <td>91.000000</td>\n",
       "      <td>42.000000</td>\n",
       "      <td>38.000000</td>\n",
       "      <td>147.100000</td>\n",
       "      <td>130.600000</td>\n",
       "      <td>1.000000</td>\n",
       "      <td>-4.000000</td>\n",
       "      <td>-6.000000</td>\n",
       "      <td>2.000000</td>\n",
       "    </tr>\n",
       "    <tr>\n",
       "      <th>75%</th>\n",
       "      <td>34.000000</td>\n",
       "      <td>25.000000</td>\n",
       "      <td>73.000000</td>\n",
       "      <td>128.000000</td>\n",
       "      <td>82.000000</td>\n",
       "      <td>150.00000</td>\n",
       "      <td>2.000000</td>\n",
       "      <td>182.000000</td>\n",
       "      <td>186.000000</td>\n",
       "      <td>212.000000</td>\n",
       "      <td>...</td>\n",
       "      <td>116.000000</td>\n",
       "      <td>126.000000</td>\n",
       "      <td>50.000000</td>\n",
       "      <td>46.000000</td>\n",
       "      <td>166.800000</td>\n",
       "      <td>166.600000</td>\n",
       "      <td>20.000000</td>\n",
       "      <td>1.000000</td>\n",
       "      <td>12.000000</td>\n",
       "      <td>7.000000</td>\n",
       "    </tr>\n",
       "    <tr>\n",
       "      <th>max</th>\n",
       "      <td>45.000000</td>\n",
       "      <td>40.000000</td>\n",
       "      <td>75.500000</td>\n",
       "      <td>138.000000</td>\n",
       "      <td>92.000000</td>\n",
       "      <td>360.00000</td>\n",
       "      <td>5.000000</td>\n",
       "      <td>234.000000</td>\n",
       "      <td>230.000000</td>\n",
       "      <td>285.000000</td>\n",
       "      <td>...</td>\n",
       "      <td>480.000000</td>\n",
       "      <td>373.000000</td>\n",
       "      <td>71.000000</td>\n",
       "      <td>67.000000</td>\n",
       "      <td>223.200000</td>\n",
       "      <td>251.800000</td>\n",
       "      <td>183.000000</td>\n",
       "      <td>15.000000</td>\n",
       "      <td>73.000000</td>\n",
       "      <td>23.000000</td>\n",
       "    </tr>\n",
       "  </tbody>\n",
       "</table>\n",
       "<p>8 rows × 21 columns</p>\n",
       "</div>"
      ],
      "text/plain": [
       "       Patient ID        Age     Height  Systolic BP  Diastolic BP   Exercise  \\\n",
       "count   45.000000  45.000000  45.000000    45.000000     45.000000   45.00000   \n",
       "mean    23.000000  24.088889  69.775111   122.933333     76.866667   90.00000   \n",
       "std     13.133926   3.253126   3.902646     7.924071      6.047539   85.33357   \n",
       "min      1.000000  20.000000  59.000000   100.000000     68.000000    0.00000   \n",
       "25%     12.000000  22.000000  67.500000   120.000000     72.000000    0.00000   \n",
       "50%     23.000000  23.000000  71.000000   124.000000     76.000000   90.00000   \n",
       "75%     34.000000  25.000000  73.000000   128.000000     82.000000  150.00000   \n",
       "max     45.000000  40.000000  75.500000   138.000000     92.000000  360.00000   \n",
       "\n",
       "       Coffee Consumption      Weight     Weight3  Cholesterol  ...  \\\n",
       "count           45.000000   45.000000   45.000000    45.000000  ...   \n",
       "mean             1.400000  165.377778  166.755556   190.155556  ...   \n",
       "std              1.750325   27.926274   27.796464    38.290134  ...   \n",
       "min              0.000000  115.000000  105.000000   115.000000  ...   \n",
       "25%              0.000000  149.000000  150.000000   164.000000  ...   \n",
       "50%              1.000000  160.000000  165.000000   194.000000  ...   \n",
       "75%              2.000000  182.000000  186.000000   212.000000  ...   \n",
       "max              5.000000  234.000000  230.000000   285.000000  ...   \n",
       "\n",
       "       Triglycerides  Triglycerides3        HDL       HDL3         LDL  \\\n",
       "count      45.000000       45.000000  45.000000  45.000000   45.000000   \n",
       "mean      111.688889      108.355556  44.111111  39.066667  144.195556   \n",
       "std        80.520980       57.067008  11.281969  10.263351   34.649091   \n",
       "min        44.000000       53.000000  25.000000  21.000000   72.100000   \n",
       "25%        71.000000       73.000000  37.000000  31.000000  119.500000   \n",
       "50%        93.000000       91.000000  42.000000  38.000000  147.100000   \n",
       "75%       116.000000      126.000000  50.000000  46.000000  166.800000   \n",
       "max       480.000000      373.000000  71.000000  67.000000  223.200000   \n",
       "\n",
       "             LDL3    Tri3-Tri   HDL3-HDL  CHOL3-CHOL       W3-W  \n",
       "count   45.000000   45.000000  45.000000   45.000000  45.000000  \n",
       "mean   139.797778   -3.333333  -5.044444   -9.533333   1.377778  \n",
       "std     37.559495   56.860275  10.269008   27.942799   8.249763  \n",
       "min     64.800000 -219.000000 -43.000000  -62.000000 -17.000000  \n",
       "25%    115.800000  -18.000000  -9.000000  -30.000000  -3.000000  \n",
       "50%    130.600000    1.000000  -4.000000   -6.000000   2.000000  \n",
       "75%    166.600000   20.000000   1.000000   12.000000   7.000000  \n",
       "max    251.800000  183.000000  15.000000   73.000000  23.000000  \n",
       "\n",
       "[8 rows x 21 columns]"
      ]
     },
     "execution_count": 27,
     "metadata": {},
     "output_type": "execute_result"
    }
   ],
   "source": [
    "df.describe()"
   ]
  },
  {
   "cell_type": "markdown",
   "metadata": {},
   "source": [
    "## Question 1: Is there a significant difference between drug type and triglycerides from screening to followup? \n",
    "\n",
    "No, there is no significant difference in triglyceride change over the course of the treatment between the two drugs."
   ]
  },
  {
   "cell_type": "code",
   "execution_count": 29,
   "metadata": {},
   "outputs": [],
   "source": [
    "drug_a = df[df.Drug == 'A']\n",
    "drug_b = df[df.Drug == 'B']"
   ]
  },
  {
   "cell_type": "code",
   "execution_count": 30,
   "metadata": {},
   "outputs": [
    {
     "name": "stdout",
     "output_type": "stream",
     "text": [
      "23 22\n"
     ]
    }
   ],
   "source": [
    "drug_a_tri = drug_a['Tri3-Tri'].tolist()\n",
    "drug_b_tri = drug_b['Tri3-Tri'].tolist()\n",
    "print(len(drug_a_tri), len(drug_b_tri))"
   ]
  },
  {
   "cell_type": "code",
   "execution_count": 31,
   "metadata": {
    "scrolled": true
   },
   "outputs": [
    {
     "data": {
      "image/png": "[encoded data removed]",
      "text/plain": [
       "<Figure size 720x576 with 1 Axes>"
      ]
     },
     "metadata": {
      "needs_background": "light"
     },
     "output_type": "display_data"
    }
   ],
   "source": [
    "plt.figure(figsize = (10,8))\n",
    "sb.distplot(drug_a_tri, bins=10, label=\"Drug A\", norm_hist=True)\n",
    "sb.distplot(drug_b_tri, bins=10, label=\"Drug B\", norm_hist=True)\n",
    "plt.legend(loc='upper left')\n",
    "plt.xlabel(\"Change in Triglyceride Value\")\n",
    "plt.ylabel(\"Normalized Proportion\")\n",
    "plt.title(\"Histogram of Change in Triglyceride by Drug (Normalized)\")\n",
    "plt.show()"
   ]
  },
  {
   "cell_type": "code",
   "execution_count": 32,
   "metadata": {},
   "outputs": [
    {
     "data": {
      "text/plain": [
       "''"
      ]
     },
     "execution_count": 32,
     "metadata": {},
     "output_type": "execute_result"
    },
    {
     "data": {
      "image/png": "[encoded data removed]",
      "text/plain": [
       "<Figure size 720x864 with 1 Axes>"
      ]
     },
     "metadata": {
      "needs_background": "light"
     },
     "output_type": "display_data"
    }
   ],
   "source": [
    "plt.figure(figsize=(10,12))\n",
    "sb.boxplot(x=df[\"Drug\"], y=df['Tri3-Tri'])\n",
    "sb.swarmplot(x=df[\"Drug\"], y=df['Tri3-Tri'], color='.25')\n",
    "plt.ylabel(\"Change in Triglyceride\")\n",
    "plt.text(0.02, -219, '-219')\n",
    "plt.text(0.02, -100, '-100')\n",
    "plt.text(0.02, 183, '183')\n",
    "plt.text(1.02, -107, '-107')\n",
    "plt.text(0.04, 6, 'Median: 2', color='white')\n",
    "plt.text(1.04, -2.5, 'Median: -5.5', color='white')\n",
    ";\n"
   ]
  },
  {
   "cell_type": "code",
   "execution_count": 33,
   "metadata": {},
   "outputs": [
    {
     "data": {
      "text/plain": [
       "Ttest_indResult(statistic=0.7790775288363618, pvalue=0.4409630520614606)"
      ]
     },
     "execution_count": 33,
     "metadata": {},
     "output_type": "execute_result"
    }
   ],
   "source": [
    "stats.ttest_ind(drug_a_tri, drug_b_tri, equal_var = False)"
   ]
  },
  {
   "cell_type": "markdown",
   "metadata": {},
   "source": [
    "## Question 2: Is there an association between coffee consumption and stomach pain? "
   ]
  },
  {
   "cell_type": "code",
   "execution_count": 34,
   "metadata": {},
   "outputs": [
    {
     "data": {
      "text/html": [
       "<div>\n",
       "<style scoped>\n",
       "    .dataframe tbody tr th:only-of-type {\n",
       "        vertical-align: middle;\n",
       "    }\n",
       "\n",
       "    .dataframe tbody tr th {\n",
       "        vertical-align: top;\n",
       "    }\n",
       "\n",
       "    .dataframe thead th {\n",
       "        text-align: right;\n",
       "    }\n",
       "</style>\n",
       "<table border=\"1\" class=\"dataframe\">\n",
       "  <thead>\n",
       "    <tr style=\"text-align: right;\">\n",
       "      <th>Stomach Pain</th>\n",
       "      <th>No</th>\n",
       "      <th>Yes</th>\n",
       "    </tr>\n",
       "    <tr>\n",
       "      <th>Coffee Consumption</th>\n",
       "      <th></th>\n",
       "      <th></th>\n",
       "    </tr>\n",
       "  </thead>\n",
       "  <tbody>\n",
       "    <tr>\n",
       "      <th>0</th>\n",
       "      <td>9</td>\n",
       "      <td>12</td>\n",
       "    </tr>\n",
       "    <tr>\n",
       "      <th>1</th>\n",
       "      <td>2</td>\n",
       "      <td>5</td>\n",
       "    </tr>\n",
       "    <tr>\n",
       "      <th>2</th>\n",
       "      <td>5</td>\n",
       "      <td>3</td>\n",
       "    </tr>\n",
       "    <tr>\n",
       "      <th>3</th>\n",
       "      <td>1</td>\n",
       "      <td>1</td>\n",
       "    </tr>\n",
       "    <tr>\n",
       "      <th>4</th>\n",
       "      <td>0</td>\n",
       "      <td>1</td>\n",
       "    </tr>\n",
       "    <tr>\n",
       "      <th>5</th>\n",
       "      <td>2</td>\n",
       "      <td>4</td>\n",
       "    </tr>\n",
       "  </tbody>\n",
       "</table>\n",
       "</div>"
      ],
      "text/plain": [
       "Stomach Pain        No  Yes\n",
       "Coffee Consumption         \n",
       "0                    9   12\n",
       "1                    2    5\n",
       "2                    5    3\n",
       "3                    1    1\n",
       "4                    0    1\n",
       "5                    2    4"
      ]
     },
     "execution_count": 34,
     "metadata": {},
     "output_type": "execute_result"
    }
   ],
   "source": [
    "coffee_table = pd.crosstab(df['Coffee Consumption'], df['Stomach Pain'])\n",
    "coffee_table"
   ]
  },
  {
   "cell_type": "code",
   "execution_count": 35,
   "metadata": {},
   "outputs": [
    {
     "data": {
      "text/plain": [
       "<bound method NDFrame.describe of Stomach Pain        No  Yes\n",
       "Coffee Consumption         \n",
       "0                    9   12\n",
       "1                    2    5\n",
       "2                    5    3\n",
       "3                    1    1\n",
       "4                    0    1\n",
       "5                    2    4>"
      ]
     },
     "execution_count": 35,
     "metadata": {},
     "output_type": "execute_result"
    }
   ],
   "source": [
    "coffee_table.describe"
   ]
  },
  {
   "cell_type": "code",
   "execution_count": 36,
   "metadata": {},
   "outputs": [
    {
     "data": {
      "text/plain": [
       "<Figure size 576x432 with 0 Axes>"
      ]
     },
     "metadata": {},
     "output_type": "display_data"
    },
    {
     "data": {
      "image/png": "[encoded data removed]",
      "text/plain": [
       "<Figure size 432x288 with 1 Axes>"
      ]
     },
     "metadata": {
      "needs_background": "light"
     },
     "output_type": "display_data"
    }
   ],
   "source": [
    "plt.figure(figsize = (8,6))\n",
    "coffee_table.plot.barh(stacked=True)\n",
    "plt.xlabel(\"Cups of Coffee Per Day\")\n",
    "plt.ylabel(\"Count\")\n",
    "plt.show()"
   ]
  },
  {
   "cell_type": "code",
   "execution_count": 37,
   "metadata": {},
   "outputs": [
    {
     "name": "stdout",
     "output_type": "stream",
     "text": [
      "2.8612998843262 0.7213589718644879 5\n"
     ]
    }
   ],
   "source": [
    "stat,p,dof,expected = chi2_contingency(coffee_table)\n",
    "print(stat, p, dof)"
   ]
  },
  {
   "cell_type": "markdown",
   "metadata": {},
   "source": [
    "## Question 3: Is there a relationship between diastolic blood pressure and cholesterol reading at screening for female patients? "
   ]
  },
  {
   "cell_type": "code",
   "execution_count": 38,
   "metadata": {
    "scrolled": true
   },
   "outputs": [
    {
     "data": {
      "text/html": [
       "<div>\n",
       "<style scoped>\n",
       "    .dataframe tbody tr th:only-of-type {\n",
       "        vertical-align: middle;\n",
       "    }\n",
       "\n",
       "    .dataframe tbody tr th {\n",
       "        vertical-align: top;\n",
       "    }\n",
       "\n",
       "    .dataframe thead th {\n",
       "        text-align: right;\n",
       "    }\n",
       "</style>\n",
       "<table border=\"1\" class=\"dataframe\">\n",
       "  <thead>\n",
       "    <tr style=\"text-align: right;\">\n",
       "      <th></th>\n",
       "      <th>Patient ID</th>\n",
       "      <th>Drug</th>\n",
       "      <th>Stomach Pain</th>\n",
       "      <th>Sex</th>\n",
       "      <th>Age</th>\n",
       "      <th>Height</th>\n",
       "      <th>Systolic BP</th>\n",
       "      <th>Diastolic BP</th>\n",
       "      <th>Exercise</th>\n",
       "      <th>Coffee Consumption</th>\n",
       "      <th>...</th>\n",
       "      <th>Triglycerides</th>\n",
       "      <th>Triglycerides3</th>\n",
       "      <th>HDL</th>\n",
       "      <th>HDL3</th>\n",
       "      <th>LDL</th>\n",
       "      <th>LDL3</th>\n",
       "      <th>Tri3-Tri</th>\n",
       "      <th>HDL3-HDL</th>\n",
       "      <th>CHOL3-CHOL</th>\n",
       "      <th>W3-W</th>\n",
       "    </tr>\n",
       "  </thead>\n",
       "  <tbody>\n",
       "    <tr>\n",
       "      <th>0</th>\n",
       "      <td>17</td>\n",
       "      <td>A</td>\n",
       "      <td>Yes</td>\n",
       "      <td>F</td>\n",
       "      <td>22</td>\n",
       "      <td>71.5</td>\n",
       "      <td>118</td>\n",
       "      <td>70</td>\n",
       "      <td>60</td>\n",
       "      <td>0</td>\n",
       "      <td>...</td>\n",
       "      <td>81</td>\n",
       "      <td>91</td>\n",
       "      <td>42</td>\n",
       "      <td>40</td>\n",
       "      <td>126.7</td>\n",
       "      <td>116.5</td>\n",
       "      <td>10</td>\n",
       "      <td>-2</td>\n",
       "      <td>-12</td>\n",
       "      <td>-1</td>\n",
       "    </tr>\n",
       "    <tr>\n",
       "      <th>1</th>\n",
       "      <td>30</td>\n",
       "      <td>A</td>\n",
       "      <td>Yes</td>\n",
       "      <td>F</td>\n",
       "      <td>23</td>\n",
       "      <td>74.0</td>\n",
       "      <td>124</td>\n",
       "      <td>76</td>\n",
       "      <td>60</td>\n",
       "      <td>0</td>\n",
       "      <td>...</td>\n",
       "      <td>94</td>\n",
       "      <td>92</td>\n",
       "      <td>43</td>\n",
       "      <td>44</td>\n",
       "      <td>119.5</td>\n",
       "      <td>118.5</td>\n",
       "      <td>-2</td>\n",
       "      <td>1</td>\n",
       "      <td>0</td>\n",
       "      <td>1</td>\n",
       "    </tr>\n",
       "    <tr>\n",
       "      <th>2</th>\n",
       "      <td>9</td>\n",
       "      <td>A</td>\n",
       "      <td>Yes</td>\n",
       "      <td>F</td>\n",
       "      <td>23</td>\n",
       "      <td>73.5</td>\n",
       "      <td>124</td>\n",
       "      <td>82</td>\n",
       "      <td>60</td>\n",
       "      <td>1</td>\n",
       "      <td>...</td>\n",
       "      <td>307</td>\n",
       "      <td>88</td>\n",
       "      <td>28</td>\n",
       "      <td>28</td>\n",
       "      <td>201.1</td>\n",
       "      <td>145.6</td>\n",
       "      <td>-219</td>\n",
       "      <td>0</td>\n",
       "      <td>-59</td>\n",
       "      <td>-12</td>\n",
       "    </tr>\n",
       "    <tr>\n",
       "      <th>3</th>\n",
       "      <td>21</td>\n",
       "      <td>A</td>\n",
       "      <td>No</td>\n",
       "      <td>F</td>\n",
       "      <td>28</td>\n",
       "      <td>71.0</td>\n",
       "      <td>110</td>\n",
       "      <td>80</td>\n",
       "      <td>60</td>\n",
       "      <td>2</td>\n",
       "      <td>...</td>\n",
       "      <td>107</td>\n",
       "      <td>145</td>\n",
       "      <td>53</td>\n",
       "      <td>47</td>\n",
       "      <td>152.3</td>\n",
       "      <td>181.7</td>\n",
       "      <td>38</td>\n",
       "      <td>-6</td>\n",
       "      <td>24</td>\n",
       "      <td>0</td>\n",
       "    </tr>\n",
       "    <tr>\n",
       "      <th>4</th>\n",
       "      <td>32</td>\n",
       "      <td>A</td>\n",
       "      <td>Yes</td>\n",
       "      <td>F</td>\n",
       "      <td>23</td>\n",
       "      <td>71.5</td>\n",
       "      <td>124</td>\n",
       "      <td>70</td>\n",
       "      <td>180</td>\n",
       "      <td>3</td>\n",
       "      <td>...</td>\n",
       "      <td>63</td>\n",
       "      <td>60</td>\n",
       "      <td>52</td>\n",
       "      <td>44</td>\n",
       "      <td>158.0</td>\n",
       "      <td>138.0</td>\n",
       "      <td>-3</td>\n",
       "      <td>-8</td>\n",
       "      <td>-28</td>\n",
       "      <td>2</td>\n",
       "    </tr>\n",
       "  </tbody>\n",
       "</table>\n",
       "<p>5 rows × 25 columns</p>\n",
       "</div>"
      ],
      "text/plain": [
       "   Patient ID Drug Stomach Pain Sex  Age  Height  Systolic BP  Diastolic BP  \\\n",
       "0          17    A          Yes   F   22    71.5          118            70   \n",
       "1          30    A          Yes   F   23    74.0          124            76   \n",
       "2           9    A          Yes   F   23    73.5          124            82   \n",
       "3          21    A           No   F   28    71.0          110            80   \n",
       "4          32    A          Yes   F   23    71.5          124            70   \n",
       "\n",
       "   Exercise  Coffee Consumption  ... Triglycerides  Triglycerides3  HDL  HDL3  \\\n",
       "0        60                   0  ...            81              91   42    40   \n",
       "1        60                   0  ...            94              92   43    44   \n",
       "2        60                   1  ...           307              88   28    28   \n",
       "3        60                   2  ...           107             145   53    47   \n",
       "4       180                   3  ...            63              60   52    44   \n",
       "\n",
       "     LDL   LDL3  Tri3-Tri  HDL3-HDL  CHOL3-CHOL  W3-W  \n",
       "0  126.7  116.5        10        -2         -12    -1  \n",
       "1  119.5  118.5        -2         1           0     1  \n",
       "2  201.1  145.6      -219         0         -59   -12  \n",
       "3  152.3  181.7        38        -6          24     0  \n",
       "4  158.0  138.0        -3        -8         -28     2  \n",
       "\n",
       "[5 rows x 25 columns]"
      ]
     },
     "execution_count": 38,
     "metadata": {},
     "output_type": "execute_result"
    }
   ],
   "source": [
    "female = df[df.Sex == \"F\"]\n",
    "female.head()"
   ]
  },
  {
   "cell_type": "code",
   "execution_count": 39,
   "metadata": {},
   "outputs": [
    {
     "data": {
      "image/png": "[encoded data removed]",
      "text/plain": [
       "<Figure size 576x432 with 1 Axes>"
      ]
     },
     "metadata": {
      "needs_background": "light"
     },
     "output_type": "display_data"
    }
   ],
   "source": [
    "plt.figure(figsize = (8,6))\n",
    "sb.distplot(female['Diastolic BP'], bins=10, label=\"Diastolic BP\", norm_hist=True)\n",
    "plt.ylabel(\"Normalized Proportion\")\n",
    "plt.title(\"Histogram of Diastolic BP in Females (Normalized)\")\n",
    "plt.show()"
   ]
  },
  {
   "cell_type": "code",
   "execution_count": 40,
   "metadata": {},
   "outputs": [
    {
     "data": {
      "image/png": "[encoded data removed]",
      "text/plain": [
       "<Figure size 576x432 with 1 Axes>"
      ]
     },
     "metadata": {
      "needs_background": "light"
     },
     "output_type": "display_data"
    }
   ],
   "source": [
    "plt.figure(figsize = (8,6))\n",
    "sb.distplot(female['Cholesterol'], bins=10, label=\"Diastolic BP\", norm_hist=True)\n",
    "plt.ylabel(\"Normalized Proportion\")\n",
    "plt.title(\"Histogram of Cholesterol at Screening in Females (Normalized)\")\n",
    "plt.show()"
   ]
  },
  {
   "cell_type": "code",
   "execution_count": 41,
   "metadata": {},
   "outputs": [
    {
     "data": {
      "image/png": "[encoded data removed]",
      "text/plain": [
       "<Figure size 576x432 with 2 Axes>"
      ]
     },
     "metadata": {
      "needs_background": "light"
     },
     "output_type": "display_data"
    }
   ],
   "source": [
    "f,axes = plt.subplots(1,2, figsize=(8,6))\n",
    "sb.boxplot(x=female['Diastolic BP'], orient='v', ax=axes[0])\n",
    "sb.swarmplot(x=female['Diastolic BP'], orient='v', color='.25', ax=axes[0])\n",
    "sb.boxplot(x=female['Cholesterol'], orient='v', whis=1.7, ax=axes[1])\n",
    "sb.swarmplot(x=female['Cholesterol'], orient='v', color='.25', ax=axes[1])\n",
    "f.tight_layout(pad=3)\n",
    "\n"
   ]
  },
  {
   "cell_type": "code",
   "execution_count": 42,
   "metadata": {},
   "outputs": [
    {
     "data": {
      "image/png": "[encoded data removed]",
      "text/plain": [
       "<Figure size 576x432 with 1 Axes>"
      ]
     },
     "metadata": {
      "needs_background": "light"
     },
     "output_type": "display_data"
    }
   ],
   "source": [
    "plt.figure(figsize = (8,6))\n",
    "sb.regplot(data=female, x='Diastolic BP', y='Cholesterol', ci=95)\n",
    "plt.title(\"Regression Plot with 95% Confidence Interval\");\n"
   ]
  },
  {
   "cell_type": "code",
   "execution_count": 43,
   "metadata": {},
   "outputs": [],
   "source": [
    "X = np.array(female['Diastolic BP']).reshape(-1,1)\n",
    "y = female['Cholesterol']"
   ]
  },
  {
   "cell_type": "code",
   "execution_count": 44,
   "metadata": {},
   "outputs": [
    {
     "name": "stdout",
     "output_type": "stream",
     "text": [
      "0.027404341961175138 86.86626449388906 [1.35153557]\n"
     ]
    }
   ],
   "source": [
    "model=LinearRegression()\n",
    "model.fit(X,y)\n",
    "model = LinearRegression().fit(X,y)\n",
    "r_sq = model.score(X,y)\n",
    "r_int = model.intercept_\n",
    "r_slope = model.coef_\n",
    "\n",
    "print(r_sq, r_int, r_slope)"
   ]
  },
  {
   "cell_type": "code",
   "execution_count": 45,
   "metadata": {},
   "outputs": [
    {
     "name": "stdout",
     "output_type": "stream",
     "text": [
      "                            OLS Regression Results                            \n",
      "==============================================================================\n",
      "Dep. Variable:            Cholesterol   R-squared:                       0.027\n",
      "Model:                            OLS   Adj. R-squared:                 -0.024\n",
      "Method:                 Least Squares   F-statistic:                    0.5354\n",
      "Date:                Thu, 29 Oct 2020   Prob (F-statistic):              0.473\n",
      "Time:                        19:24:57   Log-Likelihood:                -108.94\n",
      "No. Observations:                  21   AIC:                             221.9\n",
      "Df Residuals:                      19   BIC:                             224.0\n",
      "Df Model:                           1                                         \n",
      "Covariance Type:            nonrobust                                         \n",
      "==============================================================================\n",
      "                 coef    std err          t      P>|t|      [0.025      0.975]\n",
      "------------------------------------------------------------------------------\n",
      "const         86.8663    141.175      0.615      0.546    -208.616     382.349\n",
      "x1             1.3515      1.847      0.732      0.473      -2.515       5.218\n",
      "==============================================================================\n",
      "Omnibus:                        2.080   Durbin-Watson:                   2.689\n",
      "Prob(Omnibus):                  0.354   Jarque-Bera (JB):                0.859\n",
      "Skew:                           0.456   Prob(JB):                        0.651\n",
      "Kurtosis:                       3.385   Cond. No.                     1.09e+03\n",
      "==============================================================================\n",
      "\n",
      "Warnings:\n",
      "[1] Standard Errors assume that the covariance matrix of the errors is correctly specified.\n",
      "[2] The condition number is large, 1.09e+03. This might indicate that there are\n",
      "strong multicollinearity or other numerical problems.\n"
     ]
    }
   ],
   "source": [
    "X2 = sm.add_constant(X)\n",
    "est = sm.OLS(y,X2)\n",
    "est2 = est.fit()\n",
    "print(est2.summary())"
   ]
  },
  {
   "cell_type": "code",
   "execution_count": null,
   "metadata": {},
   "outputs": [],
   "source": []
  }
 ],
 "metadata": {
  "kernelspec": {
   "display_name": "Python 3",
   "language": "python",
   "name": "python3"
  },
  "language_info": {
   "codemirror_mode": {
    "name": "ipython",
    "version": 3
   },
   "file_extension": ".py",
   "mimetype": "text/x-python",
   "name": "python",
   "nbconvert_exporter": "python",
   "pygments_lexer": "ipython3",
   "version": "3.7.6"
  }
 },
 "nbformat": 4,
 "nbformat_minor": 4
}
